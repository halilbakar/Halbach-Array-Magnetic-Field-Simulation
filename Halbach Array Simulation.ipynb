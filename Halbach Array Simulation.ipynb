{
 "cells": [
  {
   "cell_type": "code",
   "execution_count": null,
   "id": "fcd372b0",
   "metadata": {},
   "outputs": [],
   "source": [
    "import numpy as np\n",
    "import math\n",
    "import plotly.graph_objects as go\n",
    "#Angle directions uses conventions on that page  --> https://en.wikipedia.org/wiki/Spherical_coordinate_system\n",
    "class HalbachArray:  #Our array is placed on x-y plane,and the circular gap of array is in z axis.\n",
    "    full_angle=2*math.pi  #Angle of full circle\n",
    "    B_strength=1.45 #Tesla// I took values from here --> https://www.stanfordmagnets.com/what-is-the-difference-between-n35-and-n52-magnets.html\n",
    "    #Dimesions of magnet 10*10*10 mm\n",
    "    def __init__(self,n_of_magnets,radius_of_array,dimensions_of_square_screen,resolution,theta_array,phi_array): #Resolution is how much data points we have measured inside of the viewing screen of magnetic field.\n",
    "        self.n_of_magnets=n_of_magnets #n_of_magnets is the number of magnets in halbach array \n",
    "        self.radius_of_array=radius_of_array\n",
    "        self.dimensions_of_square_screen=dimensions_of_square_screen #This is the place where we put magnetic bots (For our purpose we will see it as a viewing screen of magnetic field)\n",
    "        self.resolution=resolution\n",
    "        self.theta_array=np.deg2rad(np.array(theta_array)) #These are the orientation angles for each magnet we used in hallbach array.From zero'th magnet to nth magnet,we are entering each angle here.\n",
    "        self.phi_array=np.deg2rad(np.array(phi_array)) #Angles will taken as degrees and converted here to radians for proper calculation\n",
    "        \n",
    "    def is_ok(self): #Check whether input parameters are correct\n",
    "        if len(self.theta_array)==self.n_of_magnets and len(self.phi_array)==self.n_of_magnets:\n",
    "            return True\n",
    "        else:\n",
    "            return False\n",
    "    def coordinates_of_magnets(self): #Each magnet is called with its number.First magnet is numbered as zero.Additionally,first magnet is placed at angle zero in polar coordinates and remaining ones are placed in counter-clockwise direction properly.\n",
    "        \n",
    "        coordinates=[]\n",
    "        angle_increment=(self.full_angle)/self.n_of_magnets\n",
    "        for i in range(self.n_of_magnets):\n",
    "            coordinates.append([self.radius_of_array*math.cos(0+i*angle_increment),self.radius_of_array*math.sin(0+i*angle_increment)])\n",
    "        return np.array(coordinates) #The function returns coordinate arrays at the end\n",
    "    def plot_magnetic_field_screen(self): #It will plot the magnetic field screen with seismic colormap #It will calculate and plot magnetic field via plotly 3D cone plot.\n",
    "        #We start by defining r unit vector to assign a direction to our magnetic dipole and r_x denotes x component of r.\n",
    "        m_x=[]\n",
    "        m_y=[]\n",
    "        m_z=[]\n",
    "        for i in range(len(self.theta_array)):\n",
    "            m_x.append(1*np.sin(self.theta_array[i])*np.cos(self.phi_array[i])) # r=1\n",
    "            m_y.append(1*np.sin(self.theta_array[i])*np.sin(self.phi_array[i]))\n",
    "            m_z.append(1*np.cos(self.theta_array[i]))\n",
    "        #Now define m vector which is valid for each magnet,each \n",
    "\n",
    "        #Now we have calculated magnitudes of our direction vector r for our magnetic dipole,we are ready to dive in our magnetic field calculation and plotting\n",
    "        m_x=np.array(m_x)\n",
    "        m_y=np.array(m_y)\n",
    "        m_z=np.array(m_z)\n",
    "\n",
    "        #Now calculate positions of r vectors\n",
    "\n",
    "        \n",
    "        \n",
    "        \n",
    "        \n",
    "\n",
    "        \n",
    "\n",
    "\n",
    "\n",
    "\n",
    "        \n"
   ]
  },
  {
   "cell_type": "markdown",
   "id": "a265ba1c",
   "metadata": {},
   "source": [
    "## To calculate magnetic field of each dipole from distance r,we use \n",
    "$\\mathbf{B}(\\mathbf{r}) = \\nabla \\times \\mathbf{A} = \\frac{\\mu_0}{4\\pi} \\left[ \\frac{3\\mathbf{r}(\\mathbf{m} \\cdot \\mathbf{r})}{r^5} - \\frac{\\mathbf{m}}{r^3} \\right]$\n"
   ]
  }
 ],
 "metadata": {
  "kernelspec": {
   "display_name": "Python 3",
   "language": "python",
   "name": "python3"
  },
  "language_info": {
   "codemirror_mode": {
    "name": "ipython",
    "version": 3
   },
   "file_extension": ".py",
   "mimetype": "text/x-python",
   "name": "python",
   "nbconvert_exporter": "python",
   "pygments_lexer": "ipython3",
   "version": "3.12.4"
  }
 },
 "nbformat": 4,
 "nbformat_minor": 5
}
