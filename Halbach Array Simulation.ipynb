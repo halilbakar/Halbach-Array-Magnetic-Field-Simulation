{
 "cells": [
  {
   "cell_type": "markdown",
   "id": "c705d942",
   "metadata": {},
   "source": [
    "## There is a small problem in codes at part 1.2"
   ]
  },
  {
   "cell_type": "markdown",
   "id": "a265ba1c",
   "metadata": {},
   "source": [
    "## To calculate magnetic field of each dipole from distance r,we use \n",
    "$\\mathbf{B}(\\mathbf{r}) = \\nabla \\times \\mathbf{A} = \\frac{\\mu_0}{4\\pi} \\left[ \\frac{3\\mathbf{r}(\\mathbf{m} \\cdot \\mathbf{r})}{r^5} - \\frac{\\mathbf{m}}{r^3} \\right]$\n"
   ]
  },
  {
   "cell_type": "code",
   "execution_count": 12,
   "id": "fcd372b0",
   "metadata": {},
   "outputs": [],
   "source": [
    "import numpy as np\n",
    "import math\n",
    "import plotly.graph_objects as go\n",
    "#Angle directions uses conventions on that page  --> https://en.wikipedia.org/wiki/Spherical_coordinate_system\n",
    "#We ignore calculation of H field for reasonable approximation\n",
    "\n",
    "def coordinate_calculator(radius,number_of_magnets): #Calculates the coordinates in 3D ----->Before Creating HallbachArray object,use this.\n",
    "    #We will use it as an attribute to feed HalbachArray class \n",
    "    coords=[]\n",
    "    \n",
    "    \n",
    "    \n",
    "    increment=(2*math.pi)/number_of_magnets\n",
    "\n",
    "\n",
    "    for i in range(number_of_magnets):\n",
    "        coords.append([radius*np.cos(i*increment),radius*np.sin(i*increment),0])\n",
    "    return np.array(coords)\n",
    "\n",
    "\n",
    "\n",
    "\n",
    "class HalbachArray:  #Our array is placed on x-y plane,and the circular gap of array is in z axis.\n",
    "    full_angle=2*math.pi  #Angle of full circle\n",
    "    B_strength=1.45 #Tesla// I took values from here --> https://www.stanfordmagnets.com/what-is-the-difference-between-n35-and-n52-magnets.html\n",
    "    #Dimesions of magnet 10*10*10 mm\n",
    "    \n",
    "    def __init__(self,n_of_magnets,radius_of_array,dimensions_of_square_screen,resolution,theta_array,phi_array,coordinates): #Resolution is how much data points we have measured inside of the viewing screen of magnetic field.More precisely resolution is how many points per axis you want to see.\n",
    "        self.n_of_magnets=n_of_magnets #n_of_magnets is the number of magnets in halbach array \n",
    "        self.radius_of_array=radius_of_array\n",
    "        self.dimensions_of_square_screen=dimensions_of_square_screen #This is the place where we put magnetic bots (For our purpose we will see it as a viewing screen of magnetic field)\n",
    "        self.resolution=resolution\n",
    "        self.theta_array=np.deg2rad(np.array(theta_array)) #These are the orientation angles for each magnet we used in hallbach array.From zero'th magnet to nth magnet,we are entering each angle here.\n",
    "        self.phi_array=np.deg2rad(np.array(phi_array)) #Angles will taken as degrees and converted here to radians for proper calculation\n",
    "        self.coordinates=coordinates #We will take coordinates as np array from used function above. These are the coordinates of each magnet.\n",
    "    def is_ok(self): #Check whether input parameters are correct\n",
    "        if len(self.theta_array)==self.n_of_magnets and len(self.phi_array)==self.n_of_magnets:\n",
    "            return True\n",
    "        else:\n",
    "    \n",
    "            return False\n",
    "    \n",
    "    \n",
    "   \n",
    "    \n",
    "    def coordinates_of_magnets(self): #Each magnet is called with its number.First magnet is numbered as zero.Additionally,first magnet is placed at angle zero in polar coordinates and remaining ones are placed in counter-clockwise direction properly.\n",
    "        \n",
    "        coordinates=[]\n",
    "        angle_increment=(self.full_angle)/self.n_of_magnets\n",
    "        for i in range(self.n_of_magnets):\n",
    "            coordinates.append([self.radius_of_array*math.cos(0+i*angle_increment),self.radius_of_array*math.sin(0+i*angle_increment)])\n",
    "        return np.array(coordinates) #The function returns coordinate arrays at the end\n",
    "    \n",
    "    \n",
    "\n",
    "    \n",
    "    \n",
    "    def plot_magnetic_field_screen(self): #It will plot the magnetic field screen with seismic colormap #It will calculate and plot magnetic field via plotly 3D cone plot.\n",
    "        #We start by defining r unit vector to assign a direction to our magnetic dipole and r_x denotes x component of r.\n",
    "        m_x=[]\n",
    "        m_y=[]\n",
    "        m_z=[]\n",
    "        for i in range(len(self.theta_array)):\n",
    "            m_x.append(1*np.sin(self.theta_array[i])*np.cos(self.phi_array[i])) # r=1\n",
    "            m_y.append(1*np.sin(self.theta_array[i])*np.sin(self.phi_array[i]))\n",
    "            m_z.append(1*np.cos(self.theta_array[i]))\n",
    "        #Now define m vector which is valid for each magnet,each \n",
    "\n",
    "        #Now we have calculated magnitudes of our direction vector r for our magnetic dipole,we are ready to dive in our magnetic field calculation and plotting\n",
    "        m_x=np.array(m_x)\n",
    "        m_y=np.array(m_y)\n",
    "        m_z=np.array(m_z)\n",
    "\n",
    "\n",
    "\n",
    "        #Now calculate the s vectors with respect to the origin.(These are places where we take measurement in viewing screen) #Part 1.2\n",
    "        \n",
    "        s_coords=[[[-((self.dimensions_of_square_screen)/2)+i*(self.dimensions_of_square_screen/(self.resolution-1)),((self.dimensions_of_square_screen)/2)-j*((self.dimensions_of_square_screen)/(self.resolution-1))    ,0] for j in range(self.resolution)] for i in range(self.resolution)]\n",
    "                \n",
    "        \n",
    "\n",
    "\n",
    "\n",
    "        r_vectors=[] #By starting from 0'th magnet and point [0,0] ,we will calculate r vectors for each point and each magnet. \n",
    "        '''Structure [   \n",
    "                        [\n",
    "                            [r(00)0,r(00)1,r(00)2,......,r(00)n],\n",
    "                            [r(01)0,r(01)1,r(01)2,......,r(01)n],                        \n",
    "                            .....,\n",
    "                            [r(0n)0,r(0n)1,r(0n)2,......,r(0n)n]\n",
    "                            \n",
    "                        ],\n",
    "\n",
    "\n",
    "\n",
    "                        [\n",
    "                            [r(10)0,r(10)1,r(10)2,......,r(10)n],\n",
    "                            [r(11)0,r(11)1,r(11)2,......,r(11)n],\n",
    "                            .....,\n",
    "                            [r(1n)0,r(1n)1,r(1n)2,......,r(1n)n],\n",
    "                        ]\n",
    "                        .....\n",
    "                        .....\n",
    "                        .....\n",
    "                        .....\n",
    "                        .....\n",
    "                        .....\n",
    "                        [\n",
    "                            [r(n0)0,r(n0)1,r(n0)2,......,r(n0)n],\n",
    "                            [r(n1)0,r(n1)1,r(n1)2,......,r(n1)n],\n",
    "                            .....,\n",
    "                            [r(nn)0,r(nn)1,r(nn)2,......,r(nn)n]\n",
    "\n",
    "                        ]\n",
    "        \n",
    "        \n",
    "        \n",
    "                     ]'''\n",
    "        #Calculate r_vectors array r(xyn) n is naming number of n'th magnet\n",
    "        #You need to scan s_coords array with two index\n",
    "            #---> First index to scan s_coords\n",
    "             #---> Second index to scan s_coords\n",
    "                 #n is the index of magnets around the circle\n",
    "                    #r_vectors.append(self.coordinates[n]-np.array([s_coords[i3][0],s_coords[i3][],s_coords[][]]))\n",
    "        r_vectors=[[[s_coords[idx1][idx2]-self.coordinates[idx3] for idx1 in range(self.resolution)] for idx2 in range(self.resolution)] for idx3 in range(self.n_of_magnets)     ]\n",
    "                    \n",
    "\n",
    "        #Now we have to calculate r vectors for each point on measurement screen\n",
    "           \n",
    "           #fill that gap with r calculations for each point\n",
    "\n",
    "        #Each point in the screen is named with its coordinates [x,y].\n",
    "        \n",
    "        def calculate_B_field(m_,r_): # Takes m and r as numpy arrays \n",
    "            Mu_naught=4*math.pi*10**(-7)\n",
    "            B = (Mu_naught/(4*math.pi))*(      (3*r_*(np.dot(m_,r_)))/(np.linalg.norm(r_)**5)     - m_/(np.linalg.norm(r_)**3)                           )\n",
    "            return B\n",
    "        \n",
    "\n",
    "\n",
    "\n",
    "\n",
    "\n",
    "        "
   ]
  },
  {
   "cell_type": "markdown",
   "id": "e50e8fb9",
   "metadata": {},
   "source": [
    "## Try to use Plotly"
   ]
  },
  {
   "cell_type": "code",
   "execution_count": 13,
   "id": "069ea743",
   "metadata": {},
   "outputs": [
    {
     "data": {
      "application/vnd.plotly.v1+json": {
       "config": {
        "plotlyServerURL": "https://plot.ly"
       },
       "data": [
        {
         "anchor": "tip",
         "sizemode": "absolute",
         "sizeref": 2,
         "type": "cone",
         "u": [
          3
         ],
         "v": [
          3
         ],
         "w": [
          3
         ],
         "x": [
          0
         ],
         "y": [
          0
         ],
         "z": [
          0
         ]
        }
       ],
       "layout": {
        "scene": {
         "camera": {
          "eye": {
           "x": -1.57,
           "y": 1.36,
           "z": 0.58
          }
         },
         "domain": {
          "x": [
           0,
           1
          ]
         }
        },
        "template": {
         "data": {
          "bar": [
           {
            "error_x": {
             "color": "#2a3f5f"
            },
            "error_y": {
             "color": "#2a3f5f"
            },
            "marker": {
             "line": {
              "color": "#E5ECF6",
              "width": 0.5
             },
             "pattern": {
              "fillmode": "overlay",
              "size": 10,
              "solidity": 0.2
             }
            },
            "type": "bar"
           }
          ],
          "barpolar": [
           {
            "marker": {
             "line": {
              "color": "#E5ECF6",
              "width": 0.5
             },
             "pattern": {
              "fillmode": "overlay",
              "size": 10,
              "solidity": 0.2
             }
            },
            "type": "barpolar"
           }
          ],
          "carpet": [
           {
            "aaxis": {
             "endlinecolor": "#2a3f5f",
             "gridcolor": "white",
             "linecolor": "white",
             "minorgridcolor": "white",
             "startlinecolor": "#2a3f5f"
            },
            "baxis": {
             "endlinecolor": "#2a3f5f",
             "gridcolor": "white",
             "linecolor": "white",
             "minorgridcolor": "white",
             "startlinecolor": "#2a3f5f"
            },
            "type": "carpet"
           }
          ],
          "choropleth": [
           {
            "colorbar": {
             "outlinewidth": 0,
             "ticks": ""
            },
            "type": "choropleth"
           }
          ],
          "contour": [
           {
            "colorbar": {
             "outlinewidth": 0,
             "ticks": ""
            },
            "colorscale": [
             [
              0,
              "#0d0887"
             ],
             [
              0.1111111111111111,
              "#46039f"
             ],
             [
              0.2222222222222222,
              "#7201a8"
             ],
             [
              0.3333333333333333,
              "#9c179e"
             ],
             [
              0.4444444444444444,
              "#bd3786"
             ],
             [
              0.5555555555555556,
              "#d8576b"
             ],
             [
              0.6666666666666666,
              "#ed7953"
             ],
             [
              0.7777777777777778,
              "#fb9f3a"
             ],
             [
              0.8888888888888888,
              "#fdca26"
             ],
             [
              1,
              "#f0f921"
             ]
            ],
            "type": "contour"
           }
          ],
          "contourcarpet": [
           {
            "colorbar": {
             "outlinewidth": 0,
             "ticks": ""
            },
            "type": "contourcarpet"
           }
          ],
          "heatmap": [
           {
            "colorbar": {
             "outlinewidth": 0,
             "ticks": ""
            },
            "colorscale": [
             [
              0,
              "#0d0887"
             ],
             [
              0.1111111111111111,
              "#46039f"
             ],
             [
              0.2222222222222222,
              "#7201a8"
             ],
             [
              0.3333333333333333,
              "#9c179e"
             ],
             [
              0.4444444444444444,
              "#bd3786"
             ],
             [
              0.5555555555555556,
              "#d8576b"
             ],
             [
              0.6666666666666666,
              "#ed7953"
             ],
             [
              0.7777777777777778,
              "#fb9f3a"
             ],
             [
              0.8888888888888888,
              "#fdca26"
             ],
             [
              1,
              "#f0f921"
             ]
            ],
            "type": "heatmap"
           }
          ],
          "histogram": [
           {
            "marker": {
             "pattern": {
              "fillmode": "overlay",
              "size": 10,
              "solidity": 0.2
             }
            },
            "type": "histogram"
           }
          ],
          "histogram2d": [
           {
            "colorbar": {
             "outlinewidth": 0,
             "ticks": ""
            },
            "colorscale": [
             [
              0,
              "#0d0887"
             ],
             [
              0.1111111111111111,
              "#46039f"
             ],
             [
              0.2222222222222222,
              "#7201a8"
             ],
             [
              0.3333333333333333,
              "#9c179e"
             ],
             [
              0.4444444444444444,
              "#bd3786"
             ],
             [
              0.5555555555555556,
              "#d8576b"
             ],
             [
              0.6666666666666666,
              "#ed7953"
             ],
             [
              0.7777777777777778,
              "#fb9f3a"
             ],
             [
              0.8888888888888888,
              "#fdca26"
             ],
             [
              1,
              "#f0f921"
             ]
            ],
            "type": "histogram2d"
           }
          ],
          "histogram2dcontour": [
           {
            "colorbar": {
             "outlinewidth": 0,
             "ticks": ""
            },
            "colorscale": [
             [
              0,
              "#0d0887"
             ],
             [
              0.1111111111111111,
              "#46039f"
             ],
             [
              0.2222222222222222,
              "#7201a8"
             ],
             [
              0.3333333333333333,
              "#9c179e"
             ],
             [
              0.4444444444444444,
              "#bd3786"
             ],
             [
              0.5555555555555556,
              "#d8576b"
             ],
             [
              0.6666666666666666,
              "#ed7953"
             ],
             [
              0.7777777777777778,
              "#fb9f3a"
             ],
             [
              0.8888888888888888,
              "#fdca26"
             ],
             [
              1,
              "#f0f921"
             ]
            ],
            "type": "histogram2dcontour"
           }
          ],
          "mesh3d": [
           {
            "colorbar": {
             "outlinewidth": 0,
             "ticks": ""
            },
            "type": "mesh3d"
           }
          ],
          "parcoords": [
           {
            "line": {
             "colorbar": {
              "outlinewidth": 0,
              "ticks": ""
             }
            },
            "type": "parcoords"
           }
          ],
          "pie": [
           {
            "automargin": true,
            "type": "pie"
           }
          ],
          "scatter": [
           {
            "fillpattern": {
             "fillmode": "overlay",
             "size": 10,
             "solidity": 0.2
            },
            "type": "scatter"
           }
          ],
          "scatter3d": [
           {
            "line": {
             "colorbar": {
              "outlinewidth": 0,
              "ticks": ""
             }
            },
            "marker": {
             "colorbar": {
              "outlinewidth": 0,
              "ticks": ""
             }
            },
            "type": "scatter3d"
           }
          ],
          "scattercarpet": [
           {
            "marker": {
             "colorbar": {
              "outlinewidth": 0,
              "ticks": ""
             }
            },
            "type": "scattercarpet"
           }
          ],
          "scattergeo": [
           {
            "marker": {
             "colorbar": {
              "outlinewidth": 0,
              "ticks": ""
             }
            },
            "type": "scattergeo"
           }
          ],
          "scattergl": [
           {
            "marker": {
             "colorbar": {
              "outlinewidth": 0,
              "ticks": ""
             }
            },
            "type": "scattergl"
           }
          ],
          "scattermap": [
           {
            "marker": {
             "colorbar": {
              "outlinewidth": 0,
              "ticks": ""
             }
            },
            "type": "scattermap"
           }
          ],
          "scattermapbox": [
           {
            "marker": {
             "colorbar": {
              "outlinewidth": 0,
              "ticks": ""
             }
            },
            "type": "scattermapbox"
           }
          ],
          "scatterpolar": [
           {
            "marker": {
             "colorbar": {
              "outlinewidth": 0,
              "ticks": ""
             }
            },
            "type": "scatterpolar"
           }
          ],
          "scatterpolargl": [
           {
            "marker": {
             "colorbar": {
              "outlinewidth": 0,
              "ticks": ""
             }
            },
            "type": "scatterpolargl"
           }
          ],
          "scatterternary": [
           {
            "marker": {
             "colorbar": {
              "outlinewidth": 0,
              "ticks": ""
             }
            },
            "type": "scatterternary"
           }
          ],
          "surface": [
           {
            "colorbar": {
             "outlinewidth": 0,
             "ticks": ""
            },
            "colorscale": [
             [
              0,
              "#0d0887"
             ],
             [
              0.1111111111111111,
              "#46039f"
             ],
             [
              0.2222222222222222,
              "#7201a8"
             ],
             [
              0.3333333333333333,
              "#9c179e"
             ],
             [
              0.4444444444444444,
              "#bd3786"
             ],
             [
              0.5555555555555556,
              "#d8576b"
             ],
             [
              0.6666666666666666,
              "#ed7953"
             ],
             [
              0.7777777777777778,
              "#fb9f3a"
             ],
             [
              0.8888888888888888,
              "#fdca26"
             ],
             [
              1,
              "#f0f921"
             ]
            ],
            "type": "surface"
           }
          ],
          "table": [
           {
            "cells": {
             "fill": {
              "color": "#EBF0F8"
             },
             "line": {
              "color": "white"
             }
            },
            "header": {
             "fill": {
              "color": "#C8D4E3"
             },
             "line": {
              "color": "white"
             }
            },
            "type": "table"
           }
          ]
         },
         "layout": {
          "annotationdefaults": {
           "arrowcolor": "#2a3f5f",
           "arrowhead": 0,
           "arrowwidth": 1
          },
          "autotypenumbers": "strict",
          "coloraxis": {
           "colorbar": {
            "outlinewidth": 0,
            "ticks": ""
           }
          },
          "colorscale": {
           "diverging": [
            [
             0,
             "#8e0152"
            ],
            [
             0.1,
             "#c51b7d"
            ],
            [
             0.2,
             "#de77ae"
            ],
            [
             0.3,
             "#f1b6da"
            ],
            [
             0.4,
             "#fde0ef"
            ],
            [
             0.5,
             "#f7f7f7"
            ],
            [
             0.6,
             "#e6f5d0"
            ],
            [
             0.7,
             "#b8e186"
            ],
            [
             0.8,
             "#7fbc41"
            ],
            [
             0.9,
             "#4d9221"
            ],
            [
             1,
             "#276419"
            ]
           ],
           "sequential": [
            [
             0,
             "#0d0887"
            ],
            [
             0.1111111111111111,
             "#46039f"
            ],
            [
             0.2222222222222222,
             "#7201a8"
            ],
            [
             0.3333333333333333,
             "#9c179e"
            ],
            [
             0.4444444444444444,
             "#bd3786"
            ],
            [
             0.5555555555555556,
             "#d8576b"
            ],
            [
             0.6666666666666666,
             "#ed7953"
            ],
            [
             0.7777777777777778,
             "#fb9f3a"
            ],
            [
             0.8888888888888888,
             "#fdca26"
            ],
            [
             1,
             "#f0f921"
            ]
           ],
           "sequentialminus": [
            [
             0,
             "#0d0887"
            ],
            [
             0.1111111111111111,
             "#46039f"
            ],
            [
             0.2222222222222222,
             "#7201a8"
            ],
            [
             0.3333333333333333,
             "#9c179e"
            ],
            [
             0.4444444444444444,
             "#bd3786"
            ],
            [
             0.5555555555555556,
             "#d8576b"
            ],
            [
             0.6666666666666666,
             "#ed7953"
            ],
            [
             0.7777777777777778,
             "#fb9f3a"
            ],
            [
             0.8888888888888888,
             "#fdca26"
            ],
            [
             1,
             "#f0f921"
            ]
           ]
          },
          "colorway": [
           "#636efa",
           "#EF553B",
           "#00cc96",
           "#ab63fa",
           "#FFA15A",
           "#19d3f3",
           "#FF6692",
           "#B6E880",
           "#FF97FF",
           "#FECB52"
          ],
          "font": {
           "color": "#2a3f5f"
          },
          "geo": {
           "bgcolor": "white",
           "lakecolor": "white",
           "landcolor": "#E5ECF6",
           "showlakes": true,
           "showland": true,
           "subunitcolor": "white"
          },
          "hoverlabel": {
           "align": "left"
          },
          "hovermode": "closest",
          "mapbox": {
           "style": "light"
          },
          "paper_bgcolor": "white",
          "plot_bgcolor": "#E5ECF6",
          "polar": {
           "angularaxis": {
            "gridcolor": "white",
            "linecolor": "white",
            "ticks": ""
           },
           "bgcolor": "#E5ECF6",
           "radialaxis": {
            "gridcolor": "white",
            "linecolor": "white",
            "ticks": ""
           }
          },
          "scene": {
           "xaxis": {
            "backgroundcolor": "#E5ECF6",
            "gridcolor": "white",
            "gridwidth": 2,
            "linecolor": "white",
            "showbackground": true,
            "ticks": "",
            "zerolinecolor": "white"
           },
           "yaxis": {
            "backgroundcolor": "#E5ECF6",
            "gridcolor": "white",
            "gridwidth": 2,
            "linecolor": "white",
            "showbackground": true,
            "ticks": "",
            "zerolinecolor": "white"
           },
           "zaxis": {
            "backgroundcolor": "#E5ECF6",
            "gridcolor": "white",
            "gridwidth": 2,
            "linecolor": "white",
            "showbackground": true,
            "ticks": "",
            "zerolinecolor": "white"
           }
          },
          "shapedefaults": {
           "line": {
            "color": "#2a3f5f"
           }
          },
          "ternary": {
           "aaxis": {
            "gridcolor": "white",
            "linecolor": "white",
            "ticks": ""
           },
           "baxis": {
            "gridcolor": "white",
            "linecolor": "white",
            "ticks": ""
           },
           "bgcolor": "#E5ECF6",
           "caxis": {
            "gridcolor": "white",
            "linecolor": "white",
            "ticks": ""
           }
          },
          "title": {
           "x": 0.05
          },
          "xaxis": {
           "automargin": true,
           "gridcolor": "white",
           "linecolor": "white",
           "ticks": "",
           "title": {
            "standoff": 15
           },
           "zerolinecolor": "white",
           "zerolinewidth": 2
          },
          "yaxis": {
           "automargin": true,
           "gridcolor": "white",
           "linecolor": "white",
           "ticks": "",
           "title": {
            "standoff": 15
           },
           "zerolinecolor": "white",
           "zerolinewidth": 2
          }
         }
        }
       }
      }
     },
     "metadata": {},
     "output_type": "display_data"
    }
   ],
   "source": [
    "import plotly.graph_objects as go\n",
    "figure=go.Figure(data=go.Cone(x=[0],y=[0],z=[0],u=[3],v=[3],w=[3],sizemode=\"absolute\",sizeref=2,anchor=\"tip\"))\n",
    "figure.update_layout(\n",
    "      scene=dict(domain_x=[0, 1],\n",
    "                 camera_eye=dict(x=-1.57, y=1.36, z=0.58)))\n",
    "figure.show()\n"
   ]
  },
  {
   "cell_type": "code",
   "execution_count": 129,
   "id": "57992951",
   "metadata": {},
   "outputs": [
    {
     "data": {
      "text/plain": [
       "6"
      ]
     },
     "execution_count": 129,
     "metadata": {},
     "output_type": "execute_result"
    }
   ],
   "source": [
    "obj=HalbachArray(4,10,5,6,[90,90,90,90],[90,90,90,90])\n",
    "obj.resolution\n",
    "\n",
    "\n",
    "\n"
   ]
  },
  {
   "cell_type": "code",
   "execution_count": 151,
   "id": "80fdc883",
   "metadata": {},
   "outputs": [
    {
     "data": {
      "text/plain": [
       "array([3.81801774e-09, 7.63603548e-09, 1.14540532e-08])"
      ]
     },
     "execution_count": 151,
     "metadata": {},
     "output_type": "execute_result"
    }
   ],
   "source": [
    "def calculate_B_field(m_,r_): # Takes m and r as numpy arrays \n",
    "    Mu_naught=4*math.pi*10**(-7)\n",
    "    B = (Mu_naught/(4*math.pi))*(      (3*r_*(np.dot(m_,r_)))/(np.linalg.norm(r_)**5)     - m_/(np.linalg.norm(r_)**3)                           )\n",
    "    return B\n",
    "\n",
    "calculate_B_field(np.array([1,2,3]),np.array([1,2,3]))"
   ]
  },
  {
   "cell_type": "markdown",
   "id": "dc7a496f",
   "metadata": {},
   "source": [
    "## I will continue to update the file..."
   ]
  },
  {
   "cell_type": "code",
   "execution_count": null,
   "id": "26646af3",
   "metadata": {},
   "outputs": [
    {
     "name": "stdout",
     "output_type": "stream",
     "text": [
      "[ 6 14 24]\n"
     ]
    }
   ],
   "source": [
    "import numpy as np\n",
    "arr1=np.array([1,2,3])\n",
    "arr2=np.array([6,7,8])\n"
   ]
  },
  {
   "cell_type": "code",
   "execution_count": 7,
   "id": "e46c97cd",
   "metadata": {},
   "outputs": [
    {
     "name": "stdout",
     "output_type": "stream",
     "text": [
      "[[[0, 0, 0], [0, 1, 0], [0, 2, 0], [0, 3, 0]], [[1, 0, 0], [1, 1, 0], [1, 2, 0], [1, 3, 0]], [[2, 0, 0], [2, 1, 0], [2, 2, 0], [2, 3, 0]], [[3, 0, 0], [3, 1, 0], [3, 2, 0], [3, 3, 0]]]\n"
     ]
    }
   ],
   "source": [
    "arr=[]\n",
    "res=4\n",
    "#One liner----\n",
    "s_coords=[[[i,j,0] for j in range(res)] for i in range(res)]\n",
    "print(s_coords)"
   ]
  },
  {
   "cell_type": "code",
   "execution_count": 10,
   "id": "86cac8c3",
   "metadata": {},
   "outputs": [
    {
     "name": "stdout",
     "output_type": "stream",
     "text": [
      "[[[-5.0, 5.0, 0], [-5.0, 3.888888888888889, 0], [-5.0, 2.7777777777777777, 0], [-5.0, 1.6666666666666665, 0], [-5.0, 0.5555555555555554, 0], [-5.0, -0.5555555555555554, 0], [-5.0, -1.666666666666667, 0], [-5.0, -2.7777777777777786, 0], [-5.0, -3.8888888888888893, 0], [-5.0, -5.0, 0]], [[-3.888888888888889, 5.0, 0], [-3.888888888888889, 3.888888888888889, 0], [-3.888888888888889, 2.7777777777777777, 0], [-3.888888888888889, 1.6666666666666665, 0], [-3.888888888888889, 0.5555555555555554, 0], [-3.888888888888889, -0.5555555555555554, 0], [-3.888888888888889, -1.666666666666667, 0], [-3.888888888888889, -2.7777777777777786, 0], [-3.888888888888889, -3.8888888888888893, 0], [-3.888888888888889, -5.0, 0]], [[-2.7777777777777777, 5.0, 0], [-2.7777777777777777, 3.888888888888889, 0], [-2.7777777777777777, 2.7777777777777777, 0], [-2.7777777777777777, 1.6666666666666665, 0], [-2.7777777777777777, 0.5555555555555554, 0], [-2.7777777777777777, -0.5555555555555554, 0], [-2.7777777777777777, -1.666666666666667, 0], [-2.7777777777777777, -2.7777777777777786, 0], [-2.7777777777777777, -3.8888888888888893, 0], [-2.7777777777777777, -5.0, 0]], [[-1.6666666666666665, 5.0, 0], [-1.6666666666666665, 3.888888888888889, 0], [-1.6666666666666665, 2.7777777777777777, 0], [-1.6666666666666665, 1.6666666666666665, 0], [-1.6666666666666665, 0.5555555555555554, 0], [-1.6666666666666665, -0.5555555555555554, 0], [-1.6666666666666665, -1.666666666666667, 0], [-1.6666666666666665, -2.7777777777777786, 0], [-1.6666666666666665, -3.8888888888888893, 0], [-1.6666666666666665, -5.0, 0]], [[-0.5555555555555554, 5.0, 0], [-0.5555555555555554, 3.888888888888889, 0], [-0.5555555555555554, 2.7777777777777777, 0], [-0.5555555555555554, 1.6666666666666665, 0], [-0.5555555555555554, 0.5555555555555554, 0], [-0.5555555555555554, -0.5555555555555554, 0], [-0.5555555555555554, -1.666666666666667, 0], [-0.5555555555555554, -2.7777777777777786, 0], [-0.5555555555555554, -3.8888888888888893, 0], [-0.5555555555555554, -5.0, 0]], [[0.5555555555555554, 5.0, 0], [0.5555555555555554, 3.888888888888889, 0], [0.5555555555555554, 2.7777777777777777, 0], [0.5555555555555554, 1.6666666666666665, 0], [0.5555555555555554, 0.5555555555555554, 0], [0.5555555555555554, -0.5555555555555554, 0], [0.5555555555555554, -1.666666666666667, 0], [0.5555555555555554, -2.7777777777777786, 0], [0.5555555555555554, -3.8888888888888893, 0], [0.5555555555555554, -5.0, 0]], [[1.666666666666667, 5.0, 0], [1.666666666666667, 3.888888888888889, 0], [1.666666666666667, 2.7777777777777777, 0], [1.666666666666667, 1.6666666666666665, 0], [1.666666666666667, 0.5555555555555554, 0], [1.666666666666667, -0.5555555555555554, 0], [1.666666666666667, -1.666666666666667, 0], [1.666666666666667, -2.7777777777777786, 0], [1.666666666666667, -3.8888888888888893, 0], [1.666666666666667, -5.0, 0]], [[2.7777777777777786, 5.0, 0], [2.7777777777777786, 3.888888888888889, 0], [2.7777777777777786, 2.7777777777777777, 0], [2.7777777777777786, 1.6666666666666665, 0], [2.7777777777777786, 0.5555555555555554, 0], [2.7777777777777786, -0.5555555555555554, 0], [2.7777777777777786, -1.666666666666667, 0], [2.7777777777777786, -2.7777777777777786, 0], [2.7777777777777786, -3.8888888888888893, 0], [2.7777777777777786, -5.0, 0]], [[3.8888888888888893, 5.0, 0], [3.8888888888888893, 3.888888888888889, 0], [3.8888888888888893, 2.7777777777777777, 0], [3.8888888888888893, 1.6666666666666665, 0], [3.8888888888888893, 0.5555555555555554, 0], [3.8888888888888893, -0.5555555555555554, 0], [3.8888888888888893, -1.666666666666667, 0], [3.8888888888888893, -2.7777777777777786, 0], [3.8888888888888893, -3.8888888888888893, 0], [3.8888888888888893, -5.0, 0]], [[5.0, 5.0, 0], [5.0, 3.888888888888889, 0], [5.0, 2.7777777777777777, 0], [5.0, 1.6666666666666665, 0], [5.0, 0.5555555555555554, 0], [5.0, -0.5555555555555554, 0], [5.0, -1.666666666666667, 0], [5.0, -2.7777777777777786, 0], [5.0, -3.8888888888888893, 0], [5.0, -5.0, 0]]]\n"
     ]
    }
   ],
   "source": [
    "s_coords=[[[-((10)/2)+i*(10/(10-1)),((10)/2)-j*((10)/(10-1))    ,0] for j in range(10)] for i in range(10)]\n",
    "print(s_coords)"
   ]
  },
  {
   "cell_type": "code",
   "execution_count": null,
   "id": "47166367",
   "metadata": {},
   "outputs": [],
   "source": []
  }
 ],
 "metadata": {
  "kernelspec": {
   "display_name": "Python 3",
   "language": "python",
   "name": "python3"
  },
  "language_info": {
   "codemirror_mode": {
    "name": "ipython",
    "version": 3
   },
   "file_extension": ".py",
   "mimetype": "text/x-python",
   "name": "python",
   "nbconvert_exporter": "python",
   "pygments_lexer": "ipython3",
   "version": "3.12.4"
  }
 },
 "nbformat": 4,
 "nbformat_minor": 5
}
